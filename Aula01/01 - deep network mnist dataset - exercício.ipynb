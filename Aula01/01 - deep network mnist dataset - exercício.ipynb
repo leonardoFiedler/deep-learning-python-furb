{
 "cells": [
  {
   "cell_type": "markdown",
   "metadata": {
    "ExecuteTime": {
     "end_time": "2021-05-04T18:34:22.630204Z",
     "start_time": "2021-05-04T18:34:22.521755Z"
    },
    "hide_input": false
   },
   "source": [
    "Exercício: Implementar uma rede neural com N camadas\n",
    "        \n",
    "    - Inicializar parâmetros\n",
    "    - Forward propagation\n",
    "        - Linear\n",
    "        - Ativação (sigmoide)\n",
    "        - Custo\n",
    "    - Backpropagation - \n",
    "        - Ativação (sigmoide)\n",
    "        - Linear\n",
    "    - Atualizar parâmetros\n",
    "    "
   ]
  },
  {
   "cell_type": "code",
   "execution_count": 3,
   "metadata": {
    "ExecuteTime": {
     "end_time": "2021-05-07T22:57:16.747534Z",
     "start_time": "2021-05-07T22:57:13.530463Z"
    }
   },
   "outputs": [],
   "source": [
    "import matplotlib.pyplot as plt\n",
    "import numpy as np\n",
    "import pandas as pd\n",
    "from sklearn.datasets import fetch_openml\n",
    "#from sklearn.model_selection import train_test_split"
   ]
  },
  {
   "cell_type": "code",
   "execution_count": 2,
   "metadata": {},
   "outputs": [
    {
     "output_type": "stream",
     "name": "stdout",
     "text": [
      "/Users/leonardofiedler/Desenvolvimento/deep-learning/.venv/bin/pip\n"
     ]
    }
   ],
   "source": [
    "!which pip"
   ]
  },
  {
   "cell_type": "markdown",
   "metadata": {},
   "source": [
    "### Base de dados MNIST"
   ]
  },
  {
   "cell_type": "code",
   "execution_count": 4,
   "metadata": {
    "ExecuteTime": {
     "end_time": "2021-05-07T22:38:49.295993Z",
     "start_time": "2021-05-07T22:37:39.054541Z"
    }
   },
   "outputs": [],
   "source": [
    "mnist = fetch_openml('mnist_784')"
   ]
  },
  {
   "cell_type": "code",
   "execution_count": 5,
   "metadata": {
    "ExecuteTime": {
     "end_time": "2021-05-07T22:38:49.331720Z",
     "start_time": "2021-05-07T22:38:49.303505Z"
    }
   },
   "outputs": [
    {
     "output_type": "execute_result",
     "data": {
      "text/plain": [
       "dict_keys(['data', 'target', 'frame', 'categories', 'feature_names', 'target_names', 'DESCR', 'details', 'url'])"
      ]
     },
     "metadata": {},
     "execution_count": 5
    }
   ],
   "source": [
    "mnist.keys()"
   ]
  },
  {
   "cell_type": "code",
   "execution_count": 6,
   "metadata": {
    "ExecuteTime": {
     "end_time": "2021-05-07T22:38:49.521542Z",
     "start_time": "2021-05-07T22:38:49.343654Z"
    }
   },
   "outputs": [],
   "source": [
    "mnist_data = mnist['data'][mnist['target'].isin(['0','1'])]\n",
    "mnist_data = mnist_data.to_numpy()"
   ]
  },
  {
   "cell_type": "code",
   "execution_count": 7,
   "metadata": {
    "ExecuteTime": {
     "end_time": "2021-05-07T22:38:49.598152Z",
     "start_time": "2021-05-07T22:38:49.525751Z"
    }
   },
   "outputs": [],
   "source": [
    "mnist_target = mnist['target'][mnist['target'].isin(['0','1'])]\n",
    "mnist_target = np.array([int(i) for i in mnist_target])"
   ]
  },
  {
   "cell_type": "code",
   "execution_count": 8,
   "metadata": {
    "ExecuteTime": {
     "end_time": "2021-05-07T22:38:50.313107Z",
     "start_time": "2021-05-07T22:38:49.606824Z"
    },
    "hide_input": false
   },
   "outputs": [
    {
     "output_type": "stream",
     "name": "stdout",
     "text": [
      "i: 12275 target: 0\n"
     ]
    },
    {
     "output_type": "display_data",
     "data": {
      "text/plain": "<Figure size 432x288 with 1 Axes>",
      "image/svg+xml": "<?xml version=\"1.0\" encoding=\"utf-8\" standalone=\"no\"?>\n<!DOCTYPE svg PUBLIC \"-//W3C//DTD SVG 1.1//EN\"\n  \"http://www.w3.org/Graphics/SVG/1.1/DTD/svg11.dtd\">\n<svg height=\"248.518125pt\" version=\"1.1\" viewBox=\"0 0 251.565 248.518125\" width=\"251.565pt\" xmlns=\"http://www.w3.org/2000/svg\" xmlns:xlink=\"http://www.w3.org/1999/xlink\">\n <metadata>\n  <rdf:RDF xmlns:cc=\"http://creativecommons.org/ns#\" xmlns:dc=\"http://purl.org/dc/elements/1.1/\" xmlns:rdf=\"http://www.w3.org/1999/02/22-rdf-syntax-ns#\">\n   <cc:Work>\n    <dc:type rdf:resource=\"http://purl.org/dc/dcmitype/StillImage\"/>\n    <dc:date>2021-05-08T11:32:41.030670</dc:date>\n    <dc:format>image/svg+xml</dc:format>\n    <dc:creator>\n     <cc:Agent>\n      <dc:title>Matplotlib v3.4.1, https://matplotlib.org/</dc:title>\n     </cc:Agent>\n    </dc:creator>\n   </cc:Work>\n  </rdf:RDF>\n </metadata>\n <defs>\n  <style type=\"text/css\">*{stroke-linecap:butt;stroke-linejoin:round;}</style>\n </defs>\n <g id=\"figure_1\">\n  <g id=\"patch_1\">\n   <path d=\"M 0 248.518125 \nL 251.565 248.518125 \nL 251.565 0 \nL 0 0 \nz\n\" style=\"fill:none;\"/>\n  </g>\n  <g id=\"axes_1\">\n   <g id=\"patch_2\">\n    <path d=\"M 26.925 224.64 \nL 244.365 224.64 \nL 244.365 7.2 \nL 26.925 7.2 \nz\n\" style=\"fill:#ffffff;\"/>\n   </g>\n   <g clip-path=\"url(#pe9735230ee)\">\n    <image height=\"218\" id=\"imageeaecc11a3a\" transform=\"scale(1 -1)translate(0 -218)\" width=\"218\" x=\"26.925\" xlink:href=\"data:image/png;base64,\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\" y=\"-6.64\"/>\n   </g>\n   <g id=\"matplotlib.axis_1\">\n    <g id=\"xtick_1\">\n     <g id=\"line2d_1\">\n      <defs>\n       <path d=\"M 0 0 \nL 0 3.5 \n\" id=\"m89516b28b3\" style=\"stroke:#000000;stroke-width:0.8;\"/>\n      </defs>\n      <g>\n       <use style=\"stroke:#000000;stroke-width:0.8;\" x=\"30.807857\" xlink:href=\"#m89516b28b3\" y=\"224.64\"/>\n      </g>\n     </g>\n     <g id=\"text_1\">\n      <!-- 0 -->\n      <g transform=\"translate(27.626607 239.238437)scale(0.1 -0.1)\">\n       <defs>\n        <path d=\"M 2034 4250 \nQ 1547 4250 1301 3770 \nQ 1056 3291 1056 2328 \nQ 1056 1369 1301 889 \nQ 1547 409 2034 409 \nQ 2525 409 2770 889 \nQ 3016 1369 3016 2328 \nQ 3016 3291 2770 3770 \nQ 2525 4250 2034 4250 \nz\nM 2034 4750 \nQ 2819 4750 3233 4129 \nQ 3647 3509 3647 2328 \nQ 3647 1150 3233 529 \nQ 2819 -91 2034 -91 \nQ 1250 -91 836 529 \nQ 422 1150 422 2328 \nQ 422 3509 836 4129 \nQ 1250 4750 2034 4750 \nz\n\" id=\"DejaVuSans-30\" transform=\"scale(0.015625)\"/>\n       </defs>\n       <use xlink:href=\"#DejaVuSans-30\"/>\n      </g>\n     </g>\n    </g>\n    <g id=\"xtick_2\">\n     <g id=\"line2d_2\">\n      <g>\n       <use style=\"stroke:#000000;stroke-width:0.8;\" x=\"69.636429\" xlink:href=\"#m89516b28b3\" y=\"224.64\"/>\n      </g>\n     </g>\n     <g id=\"text_2\">\n      <!-- 5 -->\n      <g transform=\"translate(66.455179 239.238437)scale(0.1 -0.1)\">\n       <defs>\n        <path d=\"M 691 4666 \nL 3169 4666 \nL 3169 4134 \nL 1269 4134 \nL 1269 2991 \nQ 1406 3038 1543 3061 \nQ 1681 3084 1819 3084 \nQ 2600 3084 3056 2656 \nQ 3513 2228 3513 1497 \nQ 3513 744 3044 326 \nQ 2575 -91 1722 -91 \nQ 1428 -91 1123 -41 \nQ 819 9 494 109 \nL 494 744 \nQ 775 591 1075 516 \nQ 1375 441 1709 441 \nQ 2250 441 2565 725 \nQ 2881 1009 2881 1497 \nQ 2881 1984 2565 2268 \nQ 2250 2553 1709 2553 \nQ 1456 2553 1204 2497 \nQ 953 2441 691 2322 \nL 691 4666 \nz\n\" id=\"DejaVuSans-35\" transform=\"scale(0.015625)\"/>\n       </defs>\n       <use xlink:href=\"#DejaVuSans-35\"/>\n      </g>\n     </g>\n    </g>\n    <g id=\"xtick_3\">\n     <g id=\"line2d_3\">\n      <g>\n       <use style=\"stroke:#000000;stroke-width:0.8;\" x=\"108.465\" xlink:href=\"#m89516b28b3\" y=\"224.64\"/>\n      </g>\n     </g>\n     <g id=\"text_3\">\n      <!-- 10 -->\n      <g transform=\"translate(102.1025 239.238437)scale(0.1 -0.1)\">\n       <defs>\n        <path d=\"M 794 531 \nL 1825 531 \nL 1825 4091 \nL 703 3866 \nL 703 4441 \nL 1819 4666 \nL 2450 4666 \nL 2450 531 \nL 3481 531 \nL 3481 0 \nL 794 0 \nL 794 531 \nz\n\" id=\"DejaVuSans-31\" transform=\"scale(0.015625)\"/>\n       </defs>\n       <use xlink:href=\"#DejaVuSans-31\"/>\n       <use x=\"63.623047\" xlink:href=\"#DejaVuSans-30\"/>\n      </g>\n     </g>\n    </g>\n    <g id=\"xtick_4\">\n     <g id=\"line2d_4\">\n      <g>\n       <use style=\"stroke:#000000;stroke-width:0.8;\" x=\"147.293571\" xlink:href=\"#m89516b28b3\" y=\"224.64\"/>\n      </g>\n     </g>\n     <g id=\"text_4\">\n      <!-- 15 -->\n      <g transform=\"translate(140.931071 239.238437)scale(0.1 -0.1)\">\n       <use xlink:href=\"#DejaVuSans-31\"/>\n       <use x=\"63.623047\" xlink:href=\"#DejaVuSans-35\"/>\n      </g>\n     </g>\n    </g>\n    <g id=\"xtick_5\">\n     <g id=\"line2d_5\">\n      <g>\n       <use style=\"stroke:#000000;stroke-width:0.8;\" x=\"186.122143\" xlink:href=\"#m89516b28b3\" y=\"224.64\"/>\n      </g>\n     </g>\n     <g id=\"text_5\">\n      <!-- 20 -->\n      <g transform=\"translate(179.759643 239.238437)scale(0.1 -0.1)\">\n       <defs>\n        <path d=\"M 1228 531 \nL 3431 531 \nL 3431 0 \nL 469 0 \nL 469 531 \nQ 828 903 1448 1529 \nQ 2069 2156 2228 2338 \nQ 2531 2678 2651 2914 \nQ 2772 3150 2772 3378 \nQ 2772 3750 2511 3984 \nQ 2250 4219 1831 4219 \nQ 1534 4219 1204 4116 \nQ 875 4013 500 3803 \nL 500 4441 \nQ 881 4594 1212 4672 \nQ 1544 4750 1819 4750 \nQ 2544 4750 2975 4387 \nQ 3406 4025 3406 3419 \nQ 3406 3131 3298 2873 \nQ 3191 2616 2906 2266 \nQ 2828 2175 2409 1742 \nQ 1991 1309 1228 531 \nz\n\" id=\"DejaVuSans-32\" transform=\"scale(0.015625)\"/>\n       </defs>\n       <use xlink:href=\"#DejaVuSans-32\"/>\n       <use x=\"63.623047\" xlink:href=\"#DejaVuSans-30\"/>\n      </g>\n     </g>\n    </g>\n    <g id=\"xtick_6\">\n     <g id=\"line2d_6\">\n      <g>\n       <use style=\"stroke:#000000;stroke-width:0.8;\" x=\"224.950714\" xlink:href=\"#m89516b28b3\" y=\"224.64\"/>\n      </g>\n     </g>\n     <g id=\"text_6\">\n      <!-- 25 -->\n      <g transform=\"translate(218.588214 239.238437)scale(0.1 -0.1)\">\n       <use xlink:href=\"#DejaVuSans-32\"/>\n       <use x=\"63.623047\" xlink:href=\"#DejaVuSans-35\"/>\n      </g>\n     </g>\n    </g>\n   </g>\n   <g id=\"matplotlib.axis_2\">\n    <g id=\"ytick_1\">\n     <g id=\"line2d_7\">\n      <defs>\n       <path d=\"M 0 0 \nL -3.5 0 \n\" id=\"m3a1b14f542\" style=\"stroke:#000000;stroke-width:0.8;\"/>\n      </defs>\n      <g>\n       <use style=\"stroke:#000000;stroke-width:0.8;\" x=\"26.925\" xlink:href=\"#m3a1b14f542\" y=\"11.082857\"/>\n      </g>\n     </g>\n     <g id=\"text_7\">\n      <!-- 0 -->\n      <g transform=\"translate(13.5625 14.882076)scale(0.1 -0.1)\">\n       <use xlink:href=\"#DejaVuSans-30\"/>\n      </g>\n     </g>\n    </g>\n    <g id=\"ytick_2\">\n     <g id=\"line2d_8\">\n      <g>\n       <use style=\"stroke:#000000;stroke-width:0.8;\" x=\"26.925\" xlink:href=\"#m3a1b14f542\" y=\"49.911429\"/>\n      </g>\n     </g>\n     <g id=\"text_8\">\n      <!-- 5 -->\n      <g transform=\"translate(13.5625 53.710647)scale(0.1 -0.1)\">\n       <use xlink:href=\"#DejaVuSans-35\"/>\n      </g>\n     </g>\n    </g>\n    <g id=\"ytick_3\">\n     <g id=\"line2d_9\">\n      <g>\n       <use style=\"stroke:#000000;stroke-width:0.8;\" x=\"26.925\" xlink:href=\"#m3a1b14f542\" y=\"88.74\"/>\n      </g>\n     </g>\n     <g id=\"text_9\">\n      <!-- 10 -->\n      <g transform=\"translate(7.2 92.539219)scale(0.1 -0.1)\">\n       <use xlink:href=\"#DejaVuSans-31\"/>\n       <use x=\"63.623047\" xlink:href=\"#DejaVuSans-30\"/>\n      </g>\n     </g>\n    </g>\n    <g id=\"ytick_4\">\n     <g id=\"line2d_10\">\n      <g>\n       <use style=\"stroke:#000000;stroke-width:0.8;\" x=\"26.925\" xlink:href=\"#m3a1b14f542\" y=\"127.568571\"/>\n      </g>\n     </g>\n     <g id=\"text_10\">\n      <!-- 15 -->\n      <g transform=\"translate(7.2 131.36779)scale(0.1 -0.1)\">\n       <use xlink:href=\"#DejaVuSans-31\"/>\n       <use x=\"63.623047\" xlink:href=\"#DejaVuSans-35\"/>\n      </g>\n     </g>\n    </g>\n    <g id=\"ytick_5\">\n     <g id=\"line2d_11\">\n      <g>\n       <use style=\"stroke:#000000;stroke-width:0.8;\" x=\"26.925\" xlink:href=\"#m3a1b14f542\" y=\"166.397143\"/>\n      </g>\n     </g>\n     <g id=\"text_11\">\n      <!-- 20 -->\n      <g transform=\"translate(7.2 170.196362)scale(0.1 -0.1)\">\n       <use xlink:href=\"#DejaVuSans-32\"/>\n       <use x=\"63.623047\" xlink:href=\"#DejaVuSans-30\"/>\n      </g>\n     </g>\n    </g>\n    <g id=\"ytick_6\">\n     <g id=\"line2d_12\">\n      <g>\n       <use style=\"stroke:#000000;stroke-width:0.8;\" x=\"26.925\" xlink:href=\"#m3a1b14f542\" y=\"205.225714\"/>\n      </g>\n     </g>\n     <g id=\"text_12\">\n      <!-- 25 -->\n      <g transform=\"translate(7.2 209.024933)scale(0.1 -0.1)\">\n       <use xlink:href=\"#DejaVuSans-32\"/>\n       <use x=\"63.623047\" xlink:href=\"#DejaVuSans-35\"/>\n      </g>\n     </g>\n    </g>\n   </g>\n   <g id=\"patch_3\">\n    <path d=\"M 26.925 224.64 \nL 26.925 7.2 \n\" style=\"fill:none;stroke:#000000;stroke-linecap:square;stroke-linejoin:miter;stroke-width:0.8;\"/>\n   </g>\n   <g id=\"patch_4\">\n    <path d=\"M 244.365 224.64 \nL 244.365 7.2 \n\" style=\"fill:none;stroke:#000000;stroke-linecap:square;stroke-linejoin:miter;stroke-width:0.8;\"/>\n   </g>\n   <g id=\"patch_5\">\n    <path d=\"M 26.925 224.64 \nL 244.365 224.64 \n\" style=\"fill:none;stroke:#000000;stroke-linecap:square;stroke-linejoin:miter;stroke-width:0.8;\"/>\n   </g>\n   <g id=\"patch_6\">\n    <path d=\"M 26.925 7.2 \nL 244.365 7.2 \n\" style=\"fill:none;stroke:#000000;stroke-linecap:square;stroke-linejoin:miter;stroke-width:0.8;\"/>\n   </g>\n  </g>\n </g>\n <defs>\n  <clipPath id=\"pe9735230ee\">\n   <rect height=\"217.44\" width=\"217.44\" x=\"26.925\" y=\"7.2\"/>\n  </clipPath>\n </defs>\n</svg>\n",
      "image/png": "[encoded data removed]"
     },
     "metadata": {
      "needs_background": "light"
     }
    }
   ],
   "source": [
    "i = np.random.randint(len(mnist_target))\n",
    "\n",
    "plt.imshow(mnist_data[i].reshape(28,28),cmap='binary')\n",
    "print(f\"\"\"i: {i} target: {mnist_target[i]}\"\"\")"
   ]
  },
  {
   "cell_type": "code",
   "execution_count": 9,
   "metadata": {
    "ExecuteTime": {
     "end_time": "2021-05-07T22:38:50.374612Z",
     "start_time": "2021-05-07T22:38:50.345791Z"
    }
   },
   "outputs": [],
   "source": [
    "mnist_target_sample = mnist_target[:300]\n",
    "mnist_data_sample  = mnist_data[:300]"
   ]
  },
  {
   "cell_type": "code",
   "execution_count": 10,
   "metadata": {
    "ExecuteTime": {
     "end_time": "2021-05-07T22:38:50.424383Z",
     "start_time": "2021-05-07T22:38:50.391479Z"
    }
   },
   "outputs": [
    {
     "output_type": "execute_result",
     "data": {
      "text/plain": [
       "((784, 300), (1, 300))"
      ]
     },
     "metadata": {},
     "execution_count": 10
    }
   ],
   "source": [
    "mnist_data_sample = mnist_data_sample.T\n",
    "mnist_target_sample = mnist_target_sample.reshape(mnist_target_sample.shape[0],-1).T\n",
    "mnist_data_sample.shape, mnist_target_sample.shape"
   ]
  },
  {
   "source": [
    "### Funções"
   ],
   "cell_type": "markdown",
   "metadata": {}
  },
  {
   "cell_type": "code",
   "execution_count": 16,
   "metadata": {
    "ExecuteTime": {
     "end_time": "2021-05-07T22:53:53.030907Z",
     "start_time": "2021-05-07T22:53:53.004444Z"
    },
    "hide_input": false
   },
   "outputs": [],
   "source": [
    "def sigmoid(Z):\n",
    "    \"\"\"\n",
    "    Ativação sigmoide\n",
    "    \n",
    "    Arguments:\n",
    "    Z -- array numpy\n",
    "    \n",
    "    Returns:\n",
    "    A -- valor de sigmoide(z) - vetor de mesmo tamanho que Z\n",
    "    cache -- uma cópia de Z (útil para o backpropagation)\n",
    "    \"\"\"\n",
    "\n",
    "    cache = Z.copy()\n",
    "    A = 1 / (1 + np.exp(-Z))\n",
    "    \n",
    "    return A, cache\n",
    "\n",
    "\n",
    "def relu(Z):\n",
    "    \"\"\"\n",
    "    Ativação RELU\n",
    "    \n",
    "    Arguments:\n",
    "    Z -- array numpy\n",
    "    \n",
    "    Returns:\n",
    "    A -- valor de relu(Z) - vetor de mesmo tamanho que Z\n",
    "    cache -- uma cópia de Z (útil para o backpropagation)\n",
    "    \"\"\"\n",
    "    \n",
    "    A = np.maximum(0.0, Z)\n",
    "    \n",
    "    assert (dZ.shape == Z.shape) \n",
    "    assert(A.shape == Z.shape)\n",
    "    \n",
    "    return A, cache\n",
    "\n",
    "\n",
    "def relu_backward(dA, cache):\n",
    "    \"\"\"\n",
    "    Derivada da função RELU (utilizada no backpropagation)\n",
    "    \n",
    "    Arguments:\n",
    "    dA -- gradience da ativação da camada posterior\n",
    "    cache -- valor de Z guardado em cache\n",
    "    \n",
    "    Returns:\n",
    "    dZ -- gradiente em função de Z\n",
    "    \"\"\"\n",
    "    \n",
    "    Z = cache\n",
    "    #copia a entrada dA para dZ\n",
    "    dZ = np.array(dA, copy=True) \n",
    "    \n",
    "    # Atualiza os valores de dZ para 0 quando Z <= 0\n",
    "    dZ[Z <= 0] = 0\n",
    "    \n",
    "    #verifica se os vetores tem mesma dimensao\n",
    "    assert (dZ.shape == Z.shape) \n",
    "    return dZ\n",
    "\n",
    "\n",
    "def sigmoid_backward(dA, cache):\n",
    "    \"\"\"\n",
    "    Derivada da funcao sigmoide (utilizada no backpropagation)\n",
    "    \n",
    "    Arguments:\n",
    "    dA -- gradience da ativação da camada posterior\n",
    "    cache -- valor de Z guardado em cache\n",
    "    \n",
    "    Returns:\n",
    "    dZ -- gradiente em função de Z\n",
    "    \"\"\"\n",
    "\n",
    "    Z = cache\n",
    "    s = 1/(1+np.exp(-Z))\n",
    "    dZ = dA * s * (1-s)\n",
    "    \n",
    "    #verifica se os vetores tem mesma dimensao\n",
    "    assert (dZ.shape == Z.shape)\n",
    "    \n",
    "    return dZ"
   ]
  },
  {
   "cell_type": "code",
   "execution_count": 12,
   "metadata": {
    "ExecuteTime": {
     "end_time": "2021-05-07T23:10:20.356550Z",
     "start_time": "2021-05-07T23:10:20.330570Z"
    }
   },
   "outputs": [],
   "source": [
    "def init_params(layer_dims):\n",
    "    \"\"\"\n",
    "    Arguments:\n",
    "    layer_dims -- lista de inteiros onde cada elemento é o numero de nós de cada camada da rede\n",
    "    \n",
    "    Returns:\n",
    "    parameters -- dicionario python contendo os parametros \"W1\", \"b1\", ..., \"WL\", \"bL\":\n",
    "                    Wl -- matriz de pesos de dimensao: (layer_dims[l], layer_dims[l-1])\n",
    "                    bl -- vetor de bias de dimensao: (layer_dims[l], 1)\n",
    "                    \n",
    "    por exemplo, dado a entrada: \n",
    "    layer_dims = [10,20,1]\n",
    "    a saida deve ser o dicionario com as seguintes matrizes:\n",
    "    parameters = {\n",
    "                  'W1': array de dimensao (20,10),\n",
    "                  'b1': array de zeros de dimensao (20,1),\n",
    "                  'W2': array de dimensao (1,20),\n",
    "                  'b2': array de zeros de dimensao (1,1),\n",
    "                  }\n",
    "    \"\"\"\n",
    "    \n",
    "    np.random.seed(1)\n",
    "    parameters = {}\n",
    "    # numero de camadas na rede\n",
    "    L = len(layer_dims) \n",
    "\n",
    "    for l in range(1, L):\n",
    "        parameters['W' + str(l)] = np.zeros((layer_dims[l], layer_dims[l-1]))\n",
    "        parameters['b' + str(l)] = np.zeros((layer_dims[l], 1))\n",
    "        \n",
    "        assert(parameters['W' + str(l)].shape == (layer_dims[l], layer_dims[l-1]))\n",
    "        assert(parameters['b' + str(l)].shape == (layer_dims[l], 1))\n",
    "\n",
    "    return parameters"
   ]
  },
  {
   "cell_type": "code",
   "execution_count": 30,
   "metadata": {
    "ExecuteTime": {
     "end_time": "2021-05-07T23:59:50.068072Z",
     "start_time": "2021-05-07T23:59:50.054593Z"
    }
   },
   "outputs": [
    {
     "ename": "IndentationError",
     "evalue": "expected an indented block (<ipython-input-30-44b04145c15b>, line 55)",
     "output_type": "error",
     "traceback": [
      "\u001b[0;36m  File \u001b[0;32m\"<ipython-input-30-44b04145c15b>\"\u001b[0;36m, line \u001b[0;32m55\u001b[0m\n\u001b[0;31m    assert (A.shape == (W.shape[0], A_prev.shape[1]))\u001b[0m\n\u001b[0m    ^\u001b[0m\n\u001b[0;31mIndentationError\u001b[0m\u001b[0;31m:\u001b[0m expected an indented block\n"
     ]
    }
   ],
   "source": [
    "def linear_forward(A, W, b):\n",
    "    \"\"\"\n",
    "    calculo linear do forward propagation\n",
    "    \n",
    "    Arguments:\n",
    "    A -- vetor de ativação da camada anterior (ou da camada inicial de entrada - features) \n",
    "    W -- matriz de pesos: array numpy de dimensao: (tamanho layer atual,tamanhho layer anterior)\n",
    "    b -- bias vector, numpy array de dimensao: (tamanho layer atual, 1)\n",
    "    \n",
    "    Returns:\n",
    "    Z --  (valor a ser utilizado na funcao de ativacao)\n",
    "    cache -- dicionario python contendo  \"A\", \"W\",\"b\" , utilizado no backpropagation\n",
    "    \"\"\"\n",
    "    \n",
    "    #TODO: funcao linear para encontrar valor de Z\n",
    "\n",
    "    # Z = (A * W) + b\n",
    "    Z = W.dot(A) + b\n",
    "   \n",
    "    #verifica se dimensao de Z esta correta\n",
    "    assert(Z.shape == (W.shape[0], A.shape[1]))\n",
    "    cache = (A, W, b)\n",
    "    \n",
    "    return Z, cache\n",
    "\n",
    "\n",
    "def linear_activation_forward(A_prev, W, b, activation):\n",
    "    \"\"\"\n",
    "    Forward propagation. Esta função chama o calculo linear e a função de ativação\n",
    "    \n",
    "    Arguments:\n",
    "    A_prev -- Vetor de ativação da camada anterior (ou vetor de features de entrada) \n",
    "              dimensão: (tamanho layer anterior, numero de amostras)\n",
    "    W -- matriz de pesos: array numpy de dimensão (tamanho layer atual, tamanho layer anterior)\n",
    "    b -- vetor de bias: array numpy de dimensão (tamanho layer atual, 1)\n",
    "    activation -- nome da ativação a ser utilizada: string ('sigoid', 'relu')\n",
    "    \n",
    "    Returns:\n",
    "    A -- saida da função de ativação\n",
    "    cache -- dicionario python contendo \"linear_cache\" e \"activation_cache\", utilizados no backpropagation\n",
    "    \"\"\"\n",
    "    \n",
    "    if activation == \"sigmoid\":\n",
    "        #TODO: chamar funcao linear\n",
    "        #TODO: chamar funcao de ativação sigmoide\n",
    "        # Entrada \"A_prev, W, b\". \n",
    "        # Saida: \"A, activation_cache\".\n",
    "        Z, linear_cache = linear_forward(A_prev, W, b)\n",
    "        A, activation_cache = sigmoid(Z)\n",
    "    \n",
    "    elif activation == \"relu\":\n",
    "        #TODO: chamar funcao linear\n",
    "        #TODO: chamar funcao de ativação relu\n",
    "        # Entrada \"A_prev, W, b\". \n",
    "        # Saida: \"A, activation_cache\".\n",
    "        Z, linear_cache = linear_forward(A_prev, W, b)\n",
    "        A, activation_cache = relu(Z)\n",
    "   \n",
    "    #verifica se dimensao de A esta correta\n",
    "    assert (A.shape == (W.shape[0], A_prev.shape[1]))\n",
    "    #armazena cache\n",
    "    cache = (linear_cache, activation_cache)\n",
    "\n",
    "    return A, cache\n",
    "\n",
    "\n",
    "def forward(X, parameters):\n",
    "    \"\"\"\n",
    "    Forward propagation \n",
    "    - para as camadas L..L-1: [LINEAR->SIGMOID/RELU]*(L-1)\n",
    "    - para a ultima camada: ->LINEAR->SIGMOID\n",
    "    \n",
    "    Arguments:\n",
    "    X -- dados, array numpy\n",
    "    parameters -- parametros de inicialização da rede (saida da função init_params() )\n",
    "    \n",
    "    Returns:\n",
    "    AL -- ultima ativação da rede\n",
    "    caches -- lista de caches\n",
    "    \"\"\"\n",
    "\n",
    "    caches = []\n",
    "    A = X\n",
    "    #numero de camadas da rede\n",
    "    L = len(parameters) // 2 \n",
    "    \n",
    "    # percorre camadas L..L-1 [LINEAR -> SIGMOID/RELU]*(L-1). \n",
    "    for l in range(1, L):\n",
    "        A_prev = A \n",
    "        A, cache = linear_activation_forward(A_prev, parameters['W' + str(l)], parameters['b' + str(l)], activation = \"sigmoid\")\n",
    "        caches.append(cache)\n",
    "   \n",
    "    #ativação da ultima camada LINEAR -> SIGMOID.\n",
    "    AL, cache = linear_activation_forward(A, parameters['W' + str(L)], parameters['b' + str(L)], activation = \"sigmoid\")\n",
    "    caches.append(cache)\n",
    "    assert(AL.shape == (1,X.shape[1]))\n",
    "            \n",
    "    return AL, caches\n",
    "\n",
    "\n",
    "def compute_cost(AL, Y):\n",
    "    \"\"\"\n",
    "    Função de custo\n",
    "    Arguments:\n",
    "    AL -- vetor de probabilidades yˆ  de dimensão (1, numero de amostras)\n",
    "    Y -- labels de dimensão (1, numero de amostras)\n",
    "    Returns:\n",
    "    cost -- custo\n",
    "    \"\"\"\n",
    "   \n",
    "    #numero de amostras\n",
    "    m = Y.shape[1]\n",
    "\n",
    "    #TODO: calcular loss L(y^,Y)\n",
    "    # cost = (1./m) * (-np.dot(Y, np.log(AL).T))\n",
    "   \n",
    "    #transforma custo em valor unico (exemplo: [[1.3]] para 1.3)\n",
    "    cost = np.squeeze(cost)\n",
    "    assert(cost.shape == ())\n",
    "    \n",
    "    return cost"
   ]
  },
  {
   "cell_type": "code",
   "execution_count": 31,
   "metadata": {
    "ExecuteTime": {
     "end_time": "2021-05-08T00:01:14.353496Z",
     "start_time": "2021-05-08T00:01:14.334137Z"
    }
   },
   "outputs": [],
   "source": [
    "def linear_backward(dZ, cache):\n",
    "    \"\"\"\n",
    "    Função linear do backpropagation\n",
    "    \n",
    "    Arguments:\n",
    "    dZ -- Gradiente do custo em relacão a saida linear (da camada atual l)\n",
    "    cache -- tupla com valores (A_prev, W, b) (previamente computados no forward propagation da camada atual)\n",
    "    \n",
    "    Returns:\n",
    "    dA_prev -- Gradiente do custo em relação a ativação da camada anterior l-1 (mesma dimensão de A_prev)\n",
    "    dW -- Gradiente do custo em relação aos pesos(W) da camada atual l (mesma dimensão de W)\n",
    "    db -- Gradiente do custo em relação ao bias da camada attual l (mesma dimensão de b)\n",
    "    \"\"\"\n",
    "    \n",
    "    A_prev, W, b = cache\n",
    "    m = A_prev.shape[1]\n",
    "\n",
    "    #TODO: calcular gradiente de dW\n",
    "    \n",
    "    db = 1./m * np.sum(dZ, axis = 1, keepdims = True) # gradiente em relação ao bias\n",
    "    \n",
    "    #TODO: calcular gradiente dA_prev (entrada: matriz W transposta, dZ)\n",
    "   \n",
    "\n",
    "    # verifica dimensões\n",
    "    assert (dA_prev.shape == A_prev.shape)\n",
    "    assert (dW.shape == W.shape)\n",
    "    assert (db.shape == b.shape)\n",
    "    \n",
    "    return dA_prev, dW, db\n",
    "\n",
    "\n",
    "def linear_activation_backward(dA, cache, activation):\n",
    "    \"\"\"\n",
    "    Backward propagation. Esta função chama as funcoes de derivacao da ativação do calculo linear.\n",
    "\n",
    "    Arguments:\n",
    "    dA -- Gradiente da camada atual l\n",
    "    cache -- tupla de valores de cache (linear_cache, activation_cache)\n",
    "    activation -- ativação usada na camada. string: \"sigmoid\" ou \"relu\"\n",
    "    \n",
    "    Returns:\n",
    "    dA_prev -- Gradiente do custo em relação a activação da camada anterior l-1. mesma dimensão de A_prev\n",
    "    dW -- Gradiente do custo em relação aos pesos(W) da camada atual l), mesma dimensão de W\n",
    "    db -- Gradient do custo em relação ao bias(b) da camada atual l), mesma dimensão de b\n",
    "    \"\"\"\n",
    "    linear_cache, activation_cache = cache\n",
    "    \n",
    "    if activation == \"relu\":\n",
    "        #TODO: chamar funcao relu_backward\n",
    "        #TODO: chamar funcao linear_backward\n",
    "        # Entrada \"dA, activation_cache\". \n",
    "        # Saida: \"dA_prev, dW, db\".\n",
    "        \n",
    "    elif activation == \"sigmoid\":\n",
    "        #TODO: chamar funcao sigmoid_backward\n",
    "        #TODO: chamar funcao linear_backward\n",
    "        # Entrada \"dA, activation_cache\". \n",
    "        # Saida: \"dA_prev, dW, db\".\n",
    "    \n",
    "    return dA_prev, dW, db\n",
    "\n",
    "\n",
    "def backprop(AL, Y, caches):\n",
    "    \"\"\"\n",
    "    Backward propagation para as camadas L..L-1 [LINEAR->SIGMOID/RELU] * (L-1) -> LINEAR -> SIGMOID group\n",
    "    \n",
    "    Arguments:\n",
    "    AL -- vetor de probabilidades (y^), saida da funcao forward()\n",
    "    Y -- vetor de labels\n",
    "    caches -- lista de caches\n",
    "    \n",
    "    Returns:\n",
    "    grads -- Dicionario com os gradientes com formato:\n",
    "             grads[\"dA\" + str(l)] = ... \n",
    "             grads[\"dW\" + str(l)] = ...\n",
    "             grads[\"db\" + str(l)] = ... \n",
    "    \"\"\"\n",
    "    grads = {}\n",
    "    #numero de camadas\n",
    "    L = len(caches) \n",
    "    #numero de amostras\n",
    "    m = AL.shape[1]\n",
    "    Y = Y.reshape(AL.shape)\n",
    "    \n",
    "    #inicializa backpropagation\n",
    "    dAL = - (np.divide(Y, AL) - np.divide(1 - Y, 1 - AL))\n",
    "    \n",
    "    #acessa o cache da ultima camada\n",
    "    current_cache = caches[L-1]\n",
    "    #gradiente da última camada (L)\n",
    "    grads[\"dA\" + str(L-1)], grads[\"dW\" + str(L)], grads[\"db\" + str(L)] = linear_activation_backward(dAL, current_cache, activation = \"sigmoid\")\n",
    "   \n",
    "    #backpropagation das demais camadas (L-1..L) em ordem reversa\n",
    "    for l in reversed(range(L-1)):\n",
    "        # lth layer: (RELU -> LINEAR) gradients.\n",
    "       \n",
    "        #gradiente da camada l\n",
    "        current_cache = caches[l]\n",
    "        dA_prev_temp, dW_temp, db_temp = linear_activation_backward(grads[\"dA\" + str(l + 1)], current_cache, activation = \"sigmoid\")\n",
    "        grads[\"dA\" + str(l)] = dA_prev_temp\n",
    "        grads[\"dW\" + str(l + 1)] = dW_temp\n",
    "        grads[\"db\" + str(l + 1)] = db_temp\n",
    "\n",
    "    return grads\n",
    "\n",
    "\n",
    "def update_parameters(parameters, grads, learning_rate):\n",
    "    \"\"\"\n",
    "    Atualiza os parâmetros da rede utilizando gradiente descendente\n",
    "    \n",
    "    Arguments:\n",
    "    parameters -- dicionario com os parametros\n",
    "    grads -- dicionario com os gradientes (saida do backpropagation)\n",
    "    \n",
    "    Returns:\n",
    "    parameters -- dicionario com os parametros atualizados no formato:\n",
    "                  parameters[\"W\" + str(l)] = ... \n",
    "                  parameters[\"b\" + str(l)] = ...\n",
    "    \"\"\"\n",
    "    #numero de camadas\n",
    "    L = len(parameters) // 2\n",
    "\n",
    "    # Update rule for each parameter. Use a for loop.\n",
    "    #Loop percorrendo as camadas e atualizando os vetores de parâmetros W,b\n",
    "    for l in range(L):\n",
    "        W_updated = #TODO: atualizar os pesos (entrada: learning_rate e grads[dW l+1])\n",
    "        b_updated = #TODO: atualizar o bias (entrada: learning_rate e grads[db l+1])\n",
    "        parameters[\"W\" + str(l+1)] = W_updated\n",
    "        parameters[\"b\" + str(l+1)] = b_updated\n",
    "        \n",
    "    return parameters"
   ]
  },
  {
   "cell_type": "code",
   "execution_count": 12,
   "metadata": {
    "ExecuteTime": {
     "end_time": "2021-05-07T22:38:50.745943Z",
     "start_time": "2021-05-07T22:38:50.723933Z"
    }
   },
   "outputs": [],
   "source": [
    "def train_nn(X, Y, layers_dims, learning_rate, epochs, print_cost=False):\n",
    "    \"\"\"\n",
    "    Treinamento da rede\n",
    "    \n",
    "    Arguments:\n",
    "    X -- dados de dimensão (numero de features,numero de amostras)\n",
    "    Y -- labels anotados (0,1) de dimensao (1, numero de amostras)\n",
    "    \n",
    "    layers_dims -- lista contendo o numero de nos de cada camada\n",
    "    learning_rate -- taxa de aprendizado\n",
    "    epochs -- numero de iterações\n",
    "    print_cost -- imprime o custo a cada 100 iterações \n",
    "    \n",
    "    Returns:\n",
    "    parameters -- parâmetros aprendidos pelo modelo.\n",
    "    \"\"\"\n",
    "\n",
    "    np.random.seed(1)\n",
    "    costs = []\n",
    "    \n",
    "    parameters = init_params(layers_dims)\n",
    "    \n",
    "    for i in range(0, epochs):\n",
    "\n",
    "        AL, caches = forward(X, parameters)\n",
    "        \n",
    "        cost = compute_cost(AL, Y)\n",
    "    \n",
    "        grads = backprop(AL, Y, caches)\n",
    " \n",
    "        parameters = update_parameters(parameters, grads, learning_rate)\n",
    "                \n",
    "        if print_cost and i % 100 == 0:\n",
    "            print (f'Cost after {i} epochs: {cost}')\n",
    "        if print_cost and i % 100 == 0:\n",
    "            costs.append(cost)\n",
    "            \n",
    "    plt.plot(np.squeeze(costs))\n",
    "    plt.ylabel('cost')\n",
    "    plt.xlabel('iterations')\n",
    "    plt.title(f'Learning rate: {learning_rate}')\n",
    "    plt.show()\n",
    "    \n",
    "    return parameters"
   ]
  },
  {
   "cell_type": "code",
   "execution_count": 13,
   "metadata": {
    "ExecuteTime": {
     "end_time": "2021-05-07T22:38:50.770108Z",
     "start_time": "2021-05-07T22:38:50.756043Z"
    }
   },
   "outputs": [],
   "source": [
    "def predict(X, y, parameters):\n",
    "    \"\"\"\n",
    "    Função de predição\n",
    "    \n",
    "    Arguments:\n",
    "    X -- dados a serem testados\n",
    "    y -- labels (para computar acurácia do modelo)\n",
    "    parameters -- parametros do modelo treinado\n",
    "    \n",
    "    Returns:\n",
    "    p -- valores preditos pelo modelo\n",
    "    \"\"\"\n",
    "    \n",
    "    m = X.shape[1]\n",
    "    n = len(parameters) // 2 # number of layers in the neural network\n",
    "    p = np.zeros((1,m))\n",
    "    \n",
    "    # Forward propagation\n",
    "    probas, caches = forward(X, parameters)\n",
    "    \n",
    "    # convert probas to 0/1 predictions\n",
    "    for i in range(0, probas.shape[1]):\n",
    "        if probas[0,i] > 0.5:\n",
    "            p[0,i] = 1\n",
    "        else:\n",
    "            p[0,i] = 0\n",
    "            \n",
    "    acc = np.sum((p == y)/m)\n",
    "    print(f'Accuracy: {acc}')\n",
    "    return p"
   ]
  },
  {
   "cell_type": "markdown",
   "metadata": {},
   "source": [
    "### Run"
   ]
  },
  {
   "cell_type": "code",
   "execution_count": 24,
   "metadata": {
    "ExecuteTime": {
     "end_time": "2021-05-07T22:40:40.184618Z",
     "start_time": "2021-05-07T22:40:36.850454Z"
    },
    "scrolled": true
   },
   "outputs": [
    {
     "name": "stdout",
     "output_type": "stream",
     "text": [
      "Cost after 0 epochs: 0.680081009313467\n",
      "Cost after 100 epochs: 0.4765518227453166\n",
      "Cost after 200 epochs: 0.394134351482421\n",
      "Cost after 300 epochs: 0.32839827195403215\n",
      "Cost after 400 epochs: 0.27877851652931224\n"
     ]
    },
    {
     "data": {
      "image/png": "[encoded data removed]",
      "text/plain": [
       "<Figure size 432x288 with 1 Axes>"
      ]
     },
     "metadata": {
      "needs_background": "light"
     },
     "output_type": "display_data"
    }
   ],
   "source": [
    "#params\n",
    "layers_dims = [784,30,1]\n",
    "learning_rate = 0.001\n",
    "epochs = 500\n",
    "\n",
    "#executa o treinamento\n",
    "parameters = train_nn(mnist_data_sample, mnist_target_sample, layers_dims, learning_rate, epochs, print_cost = True)"
   ]
  },
  {
   "cell_type": "code",
   "execution_count": 25,
   "metadata": {
    "ExecuteTime": {
     "end_time": "2021-05-07T22:40:41.964802Z",
     "start_time": "2021-05-07T22:40:41.944129Z"
    }
   },
   "outputs": [
    {
     "name": "stdout",
     "output_type": "stream",
     "text": [
      "Accuracy: 0.9966666666666668\n"
     ]
    },
    {
     "data": {
      "text/plain": [
       "array([[0., 1., 1., 1., 1., 0., 1., 1., 0., 0., 1., 0., 0., 1., 0., 1.,\n",
       "        0., 0., 1., 1., 0., 1., 1., 0., 0., 0., 1., 1., 1., 1., 0., 1.,\n",
       "        1., 0., 0., 0., 0., 1., 1., 1., 1., 0., 0., 1., 1., 1., 0., 1.,\n",
       "        1., 1., 0., 1., 0., 1., 1., 0., 1., 0., 1., 0., 0., 0., 1., 0.,\n",
       "        1., 0., 1., 1., 1., 0., 1., 0., 0., 0., 1., 1., 1., 0., 0., 1.,\n",
       "        1., 1., 1., 1., 0., 1., 1., 1., 1., 1., 0., 1., 1., 1., 0., 0.,\n",
       "        0., 0., 1., 1., 1., 0., 0., 1., 1., 0., 0., 0., 1., 1., 0., 1.,\n",
       "        1., 0., 1., 1., 1., 1., 1., 0., 0., 0., 0., 1., 1., 1., 0., 1.,\n",
       "        1., 1., 1., 1., 0., 0., 1., 1., 0., 0., 1., 1., 0., 1., 0., 1.,\n",
       "        1., 0., 1., 0., 0., 0., 0., 0., 0., 1., 1., 1., 0., 1., 1., 0.,\n",
       "        0., 1., 1., 0., 0., 1., 0., 0., 1., 1., 0., 1., 1., 0., 1., 0.,\n",
       "        0., 1., 0., 1., 0., 1., 1., 1., 0., 0., 0., 0., 1., 1., 0., 0.,\n",
       "        1., 0., 1., 1., 1., 0., 1., 0., 0., 1., 0., 0., 1., 1., 0., 1.,\n",
       "        0., 1., 0., 1., 0., 0., 1., 1., 1., 0., 1., 0., 0., 0., 1., 0.,\n",
       "        1., 0., 0., 1., 1., 1., 1., 1., 0., 0., 1., 1., 1., 1., 0., 0.,\n",
       "        1., 0., 0., 1., 1., 1., 0., 1., 1., 0., 1., 0., 1., 0., 1., 0.,\n",
       "        1., 1., 0., 1., 1., 0., 1., 1., 1., 1., 1., 1., 1., 0., 1., 1.,\n",
       "        1., 0., 0., 1., 1., 0., 0., 1., 0., 0., 1., 0., 0., 1., 0., 0.,\n",
       "        1., 0., 0., 0., 1., 0., 1., 0., 1., 0., 1., 1.]])"
      ]
     },
     "execution_count": 25,
     "metadata": {},
     "output_type": "execute_result"
    }
   ],
   "source": [
    "predict(mnist_data_sample, mnist_target_sample, parameters)"
   ]
  }
 ],
 "metadata": {
  "kernelspec": {
   "name": "python390jvsc74a57bd00a4220c96d4c41691d0603a4cc81f6fd39f1bc30acdf300cf071d8dc191b1996",
   "display_name": "Python 3.9.0 64-bit ('.venv')"
  },
  "language_info": {
   "codemirror_mode": {
    "name": "ipython",
    "version": 3
   },
   "file_extension": ".py",
   "mimetype": "text/x-python",
   "name": "python",
   "nbconvert_exporter": "python",
   "pygments_lexer": "ipython3",
   "version": "3.9.0"
  },
  "metadata": {
   "interpreter": {
    "hash": "0a4220c96d4c41691d0603a4cc81f6fd39f1bc30acdf300cf071d8dc191b1996"
   }
  }
 },
 "nbformat": 4,
 "nbformat_minor": 4
}