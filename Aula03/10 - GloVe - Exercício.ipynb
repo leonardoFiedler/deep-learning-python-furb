{
 "cells": [
  {
   "cell_type": "markdown",
   "id": "c80ceea5",
   "metadata": {},
   "source": [
    "https://nlp.stanford.edu/projects/glove/\n",
    "\n",
    "Download do modelo pré-treinado: https://www.kaggle.com/danielwillgeorge/glove6b100dtxt"
   ]
  },
  {
   "cell_type": "code",
   "execution_count": 1,
   "id": "7b88daf7",
   "metadata": {
    "ExecuteTime": {
     "end_time": "2021-06-09T22:41:57.354731Z",
     "start_time": "2021-06-09T22:41:57.345062Z"
    }
   },
   "outputs": [
    {
     "output_type": "stream",
     "name": "stderr",
     "text": [
      "/Users/leonardofiedler/Desenvolvimento/deep-learning/.venv/lib/python3.9/site-packages/gensim/similarities/__init__.py:15: UserWarning: The gensim.similarities.levenshtein submodule is disabled, because the optional Levenshtein package <https://pypi.org/project/python-Levenshtein/> is unavailable. Install Levenhstein (e.g. `pip install python-Levenshtein`) to suppress this warning.\n  warnings.warn(msg)\n"
     ]
    }
   ],
   "source": [
    "from gensim.models import KeyedVectors\n",
    "from gensim.scripts.glove2word2vec import glove2word2vec\n",
    "import numpy as np"
   ]
  },
  {
   "cell_type": "code",
   "execution_count": null,
   "id": "e679e441",
   "metadata": {
    "ExecuteTime": {
     "end_time": "2021-06-09T20:51:57.153797Z",
     "start_time": "2021-06-09T20:51:52.084005Z"
    }
   },
   "outputs": [],
   "source": [
    "glove_input_file = 'data/glove.6B.100d.txt'\n",
    "word2vec_output_file = 'data/glove_word2vec.txt'\n",
    "glove2word2vec(glove_input_file, word2vec_output_file)"
   ]
  },
  {
   "cell_type": "code",
   "execution_count": null,
   "id": "0afbd431",
   "metadata": {
    "ExecuteTime": {
     "end_time": "2021-06-09T20:52:30.722109Z",
     "start_time": "2021-06-09T20:51:57.197267Z"
    }
   },
   "outputs": [],
   "source": [
    "model = KeyedVectors.load_word2vec_format(word2vec_output_file, binary=False)"
   ]
  },
  {
   "cell_type": "markdown",
   "id": "7757a3f2",
   "metadata": {
    "ExecuteTime": {
     "end_time": "2021-06-09T22:36:42.100096Z",
     "start_time": "2021-06-09T22:36:42.090397Z"
    }
   },
   "source": [
    "### Similaridade de Cosseno"
   ]
  },
  {
   "cell_type": "code",
   "execution_count": null,
   "id": "faf6139a",
   "metadata": {
    "ExecuteTime": {
     "end_time": "2021-06-09T22:51:04.772894Z",
     "start_time": "2021-06-09T22:51:04.765922Z"
    }
   },
   "outputs": [],
   "source": [
    "def cosine_similarity(w1,w2):\n",
    "    \n",
    "    # calcular o produto entre w1 e w2 \n",
    "    dot = \n",
    "    \n",
    "    # calcular a norma L2 de w1\n",
    "    norm_w1 = \n",
    "    \n",
    "    # calcular a norma L2 de w2\n",
    "    norm_w2 = \n",
    "    \n",
    "    # calcular a similaridade de cosseno\n",
    "    cosine_similarity = \n",
    "    \n",
    "    return cosine_similarity"
   ]
  },
  {
   "cell_type": "code",
   "execution_count": null,
   "id": "ced947a9",
   "metadata": {
    "ExecuteTime": {
     "end_time": "2021-06-09T22:51:23.173070Z",
     "start_time": "2021-06-09T22:51:23.163842Z"
    }
   },
   "outputs": [],
   "source": [
    "w1 = model.get_vector('woman')\n",
    "w2 = model.get_vector('men')\n",
    "cosine_similarity(w1,w2)"
   ]
  },
  {
   "cell_type": "markdown",
   "id": "cb80b0fc",
   "metadata": {},
   "source": [
    "### Eliminando bias "
   ]
  },
  {
   "cell_type": "code",
   "execution_count": null,
   "id": "73568a4d",
   "metadata": {
    "ExecuteTime": {
     "end_time": "2021-06-09T23:08:42.473597Z",
     "start_time": "2021-06-09T23:08:42.454582Z"
    }
   },
   "outputs": [],
   "source": [
    "g = w1 - w2\n",
    "print(g)"
   ]
  },
  {
   "cell_type": "code",
   "execution_count": null,
   "id": "e4fce8f9",
   "metadata": {
    "ExecuteTime": {
     "end_time": "2021-06-09T23:09:22.913790Z",
     "start_time": "2021-06-09T23:09:22.898702Z"
    }
   },
   "outputs": [],
   "source": [
    "name_list = ['john', 'marie', 'sophie', 'ronaldo', 'priya', 'rahul', 'danielle', 'reza', 'katy', 'yasmin']\n",
    "\n",
    "for w in name_list:\n",
    "    print (w, cosine_similarity(model.get_vector(w), g))"
   ]
  },
  {
   "cell_type": "code",
   "execution_count": null,
   "id": "f876f34b",
   "metadata": {
    "ExecuteTime": {
     "end_time": "2021-06-09T23:11:13.603293Z",
     "start_time": "2021-06-09T23:11:13.587851Z"
    }
   },
   "outputs": [],
   "source": [
    "word_list = ['lipstick', 'guns', 'science', 'arts', 'literature', 'warrior','doctor', 'tree', 'receptionist', \n",
    "             'technology',  'fashion', 'teacher', 'engineer', 'pilot', 'computer', 'singer']\n",
    "for w in word_list:\n",
    "    print (w, cosine_similarity(model.get_vector(w), g))"
   ]
  },
  {
   "cell_type": "code",
   "execution_count": null,
   "id": "8beccf15",
   "metadata": {
    "ExecuteTime": {
     "end_time": "2021-06-09T23:17:56.642435Z",
     "start_time": "2021-06-09T23:17:56.634679Z"
    }
   },
   "outputs": [],
   "source": [
    "def neutralize(word, g):\n",
    "    e = model.get_vector(word)\n",
    "    e_biascomponent = np.dot(e ,g) / np.sum(g * g) * g\n",
    "    e_debiased = e - e_biascomponent\n",
    "    \n",
    "    return e_debiased"
   ]
  },
  {
   "cell_type": "code",
   "execution_count": null,
   "id": "23a10891",
   "metadata": {
    "ExecuteTime": {
     "end_time": "2021-06-09T23:19:58.739525Z",
     "start_time": "2021-06-09T23:19:58.728130Z"
    }
   },
   "outputs": [],
   "source": [
    "word = 'receptionist'\n",
    "print(cosine_similarity(model.get_vector(word), g))\n",
    "\n",
    "e_debiased = neutralize(word, g)\n",
    "print(cosine_similarity(e_debiased, g))"
   ]
  },
  {
   "cell_type": "code",
   "execution_count": null,
   "id": "0e068536",
   "metadata": {
    "ExecuteTime": {
     "end_time": "2021-06-09T23:31:54.695797Z",
     "start_time": "2021-06-09T23:31:54.688849Z"
    }
   },
   "outputs": [],
   "source": [
    "def equalize(e_w1, e_w2, bias_axis):\n",
    "    \n",
    "    mu = (e_w1 + e_w2) / 2\n",
    "\n",
    "    mu_B = np.dot(mu, bias_axis) / np.sum(bias_axis * bias_axis) * bias_axis\n",
    "    mu_orth = mu - mu_B\n",
    "\n",
    "    e_w1B = np.dot(e_w1, bias_axis) / np.sum(bias_axis * bias_axis) * bias_axis\n",
    "    e_w2B = np.dot(e_w2, bias_axis) / np.sum(bias_axis * bias_axis) * bias_axis\n",
    "        \n",
    "    corrected_e_w1B = np.sqrt(np.abs(1 - np.sum(mu_orth * mu_orth))) * (e_w1B - mu_B) / np.linalg.norm(e_w1 - mu_orth - mu_B)\n",
    "    corrected_e_w2B = np.sqrt(np.abs(1 - np.sum(mu_orth * mu_orth))) * (e_w2B - mu_B) / np.linalg.norm(e_w2 - mu_orth - mu_B)\n",
    "\n",
    "    e1 = corrected_e_w1B + mu_orth\n",
    "    e2 = corrected_e_w2B + mu_orth\n",
    "    return e1, e2"
   ]
  },
  {
   "cell_type": "code",
   "execution_count": null,
   "id": "b7818b55",
   "metadata": {
    "ExecuteTime": {
     "end_time": "2021-06-09T23:31:55.445312Z",
     "start_time": "2021-06-09T23:31:55.438875Z"
    }
   },
   "outputs": [],
   "source": [
    "e_w1 = model.get_vector('men')\n",
    "e_w2 = model.get_vector('woman')\n",
    "print(cosine_similarity(e_w1, g))\n",
    "print(cosine_similarity(e_w2, g))"
   ]
  },
  {
   "cell_type": "code",
   "execution_count": null,
   "id": "b9df277d",
   "metadata": {
    "ExecuteTime": {
     "end_time": "2021-06-09T23:32:21.358702Z",
     "start_time": "2021-06-09T23:32:21.352615Z"
    }
   },
   "outputs": [],
   "source": [
    "eq_w1, eq_w2 = equalize(e_w1, e_w2, g)\n",
    "print(cosine_similarity(e1, g))\n",
    "print(cosine_similarity(e2, g))"
   ]
  }
 ],
 "metadata": {
  "kernelspec": {
   "name": "python390jvsc74a57bd00a4220c96d4c41691d0603a4cc81f6fd39f1bc30acdf300cf071d8dc191b1996",
   "display_name": "Python 3.9.0 64-bit ('.venv': venv)"
  },
  "language_info": {
   "codemirror_mode": {
    "name": "ipython",
    "version": 3
   },
   "file_extension": ".py",
   "mimetype": "text/x-python",
   "name": "python",
   "nbconvert_exporter": "python",
   "pygments_lexer": "ipython3",
   "version": "3.9.0"
  }
 },
 "nbformat": 4,
 "nbformat_minor": 5
}